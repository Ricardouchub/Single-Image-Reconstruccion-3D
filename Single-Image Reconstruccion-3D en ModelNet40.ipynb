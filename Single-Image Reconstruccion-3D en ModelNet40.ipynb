{
 "cells": [
  {
   "cell_type": "markdown",
   "id": "b1bb34c9",
   "metadata": {},
   "source": [
    "# Single-Image 3D Reconstruction en ModelNet40 con **PyTorch3D** (Torch 2.6 / CUDA 12.4)"
   ]
  },
  {
   "cell_type": "markdown",
   "id": "20949aa7",
   "metadata": {},
   "source": [
    "## Chequeo de entorno"
   ]
  },
  {
   "cell_type": "code",
   "execution_count": 1,
   "id": "54479e35",
   "metadata": {},
   "outputs": [
    {
     "name": "stdout",
     "output_type": "stream",
     "text": [
      "Python: 3.11.11\n",
      "Torch:  2.6.0+cu124\n",
      "CUDA (torch): 12.4\n",
      "CUDA disponible: True\n",
      "GPU: NVIDIA GeForce RTX 3060\n",
      "Compute capability: (8, 6)\n",
      "\n",
      "Checando herramientas del sistema...\n",
      "nvcc: C:\\Program Files\\NVIDIA GPU Computing Toolkit\\CUDA\\v12.4\\bin\\nvcc.EXE\n",
      "cl.exe (MSVC): C:\\Program Files\\Microsoft Visual Studio\\2022\\Community\\VC\\Tools\\MSVC\\14.44.35207\\bin\\HostX64\\x64\\cl.EXE\n",
      "\n",
      "Salida de nvidia-smi (si existe):\n",
      "Sun Oct  5 11:19:41 2025       \n",
      "+-----------------------------------------------------------------------------------------+\n",
      "| NVIDIA-SMI 576.88                 Driver Version: 576.88         CUDA Version: 12.9     |\n",
      "|-----------------------------------------+------------------------+----------------------+\n",
      "| GPU  Name                  Driver-Model | Bus-Id          Disp.A | Volatile Uncorr. ECC |\n",
      "| Fan  Temp   Perf          Pwr:Usage/Cap |           Memory-Usage | GPU-Util  Compute M. |\n",
      "|                                         |                        |               MIG M. |\n",
      "|=========================================+========================+======================|\n",
      "|   0  NVIDIA GeForce RTX 3060      WDDM  |   00000000:01:00.0  On |                  N/A |\n",
      "|  0%   35C    P8             10W /  170W |    1220MiB /  12288MiB |     17%      Default |\n",
      "|                                         |                        |                  N/A |\n",
      "+-----------------------------------------+------------------------+----------------------+\n",
      "                                                                                         \n",
      "+-----------------------------------------------------------------------------------------+\n",
      "| Processes:                                                                              |\n",
      "|  GPU   GI   CI              PID   Type   Process name                        GPU Memory |\n",
      "|        ID   ID                                                               Usage      |\n",
      "|=========================================================================================|\n",
      "|    0   N/A  N/A            4980    C+G   ...indows\\System32\\ShellHost.exe      N/A      |\n",
      "|    0   N/A  N/A            7916    C+G   C:\\Windows\\explorer.exe               N/A      |\n",
      "|    0   N/A  N/A            8892    C+G   ...5n1h2txyewy\\TextInputHost.exe      N/A      |\n",
      "|    0   N/A  N/A           10384    C+G   ...ntrolPanel\\SystemSettings.exe      N/A      |\n",
      "|    0   N/A  N/A           17128    C+G   ...y\\StartMenuExperienceHost.exe      N/A      |\n",
      "|    0   N/A  N/A           17912    C+G   ...x64__8wekyb3d8bbwe\\Photos.exe      N/A      |\n",
      "|    0   N/A  N/A           18868    C+G   ...AcrobatNotificationClient.exe      N/A      |\n",
      "|    0   N/A  N/A           23476    C+G   ...yb3d8bbwe\\Notepad\\Notepad.exe      N/A      |\n",
      "|    0   N/A  N/A           23684    C+G   ...ms\\Microsoft VS Code\\Code.exe      N/A      |\n",
      "|    0   N/A  N/A           24000    C+G   ....0.3485.94\\msedgewebview2.exe      N/A      |\n",
      "|    0   N/A  N/A           26128    C+G   ....0.3485.94\\msedgewebview2.exe      N/A      |\n",
      "|    0   N/A  N/A           27096    C+G   ...8bbwe\\PhoneExperienceHost.exe      N/A      |\n",
      "|    0   N/A  N/A           27128    C+G   ...ffice\\root\\Office16\\EXCEL.EXE      N/A      |\n",
      "|    0   N/A  N/A           28388    C+G   ...yb3d8bbwe\\WindowsTerminal.exe      N/A      |\n",
      "|    0   N/A  N/A           30184    C+G   ...ta\\Okta Verify\\OktaVerify.exe      N/A      |\n",
      "|    0   N/A  N/A           30964    C+G   ....0.3485.94\\msedgewebview2.exe      N/A      |\n",
      "|    0   N/A  N/A           31068    C+G   ...xyewy\\ShellExperienceHost.exe      N/A      |\n",
      "|    0   N/A  N/A           32312    C+G   ...Chrome\\Application\\chrome.exe      N/A      |\n",
      "|    0   N/A  N/A           32484    C+G   ..._cw5n1h2txyewy\\SearchHost.exe      N/A      |\n",
      "|    0   N/A  N/A           34940    C+G   ...em32\\ApplicationFrameHost.exe      N/A      |\n",
      "|    0   N/A  N/A           37172    C+G   ...2txyewy\\CrossDeviceResume.exe      N/A      |\n",
      "|    0   N/A  N/A           37480    C+G   ...Chrome\\Application\\chrome.exe      N/A      |\n",
      "+-----------------------------------------------------------------------------------------+\n",
      "\n"
     ]
    }
   ],
   "source": [
    "import sys, os, platform, shutil, json, subprocess\n",
    "try:\n",
    "    import torch\n",
    "except Exception as e:\n",
    "    raise SystemExit('PyTorch no está instalado en este kernel. Instálalo antes de continuar.') from e\n",
    "\n",
    "print(f'Python: {sys.version.split()[0]}')\n",
    "print(f'Torch:  {torch.__version__}')\n",
    "print(f'CUDA (torch): {getattr(torch.version, \"cuda\", None)}')\n",
    "print('CUDA disponible:', torch.cuda.is_available())\n",
    "if torch.cuda.is_available():\n",
    "    print('GPU:', torch.cuda.get_device_name(0))\n",
    "    print('Compute capability:', torch.cuda.get_device_capability(0))\n",
    "\n",
    "print('\\nChecando herramientas del sistema...')\n",
    "nvcc_path = shutil.which('nvcc')\n",
    "print('nvcc:', nvcc_path if nvcc_path else 'NO encontrado (instala CUDA Toolkit y agrega bin a PATH)')\n",
    "\n",
    "cl_path = shutil.which('cl')\n",
    "print('cl.exe (MSVC):', cl_path if cl_path else \"NO encontrado (instala 'Desktop development with C++' / Build Tools)\")\n",
    "\n",
    "print('\\nSalida de nvidia-smi (si existe):')\n",
    "try:\n",
    "    ret = subprocess.run(['nvidia-smi'], check=False, capture_output=True, text=True)\n",
    "    print(ret.stdout if ret.stdout else ret.stderr)\n",
    "except Exception as e:\n",
    "    print('nvidia-smi no disponible:', e)"
   ]
  },
  {
   "cell_type": "code",
   "execution_count": 2,
   "id": "09b4856e",
   "metadata": {},
   "outputs": [],
   "source": [
    "os.environ[\"TORCH_CUDA_ARCH_LIST\"] = \"8.6\"\n",
    "os.environ[\"CMAKE_GENERATOR\"] = \"Ninja\""
   ]
  },
  {
   "cell_type": "markdown",
   "id": "85fe05ca",
   "metadata": {},
   "source": [
    "### Smoke test: render de un icosphere"
   ]
  },
  {
   "cell_type": "code",
   "execution_count": 3,
   "id": "8ab8c7d4",
   "metadata": {},
   "outputs": [
    {
     "name": "stdout",
     "output_type": "stream",
     "text": [
      "Device: cuda\n"
     ]
    },
    {
     "data": {
      "image/png": "[encoded data removed]",
      "text/plain": [
       "<Figure size 640x480 with 1 Axes>"
      ]
     },
     "metadata": {},
     "output_type": "display_data"
    }
   ],
   "source": [
    "import torch, math\n",
    "import matplotlib.pyplot as plt\n",
    "from pytorch3d.structures import Meshes\n",
    "from pytorch3d.utils import ico_sphere\n",
    "from pytorch3d.renderer import (\n",
    "    PerspectiveCameras, RasterizationSettings, MeshRenderer, MeshRasterizer,\n",
    "    SoftPhongShader, PointLights, TexturesVertex\n",
    ")\n",
    "\n",
    "device = torch.device('cuda' if torch.cuda.is_available() else 'cpu')\n",
    "print('Device:', device)\n",
    "\n",
    "base = ico_sphere(level=3, device=device)\n",
    "verts = base.verts_packed()\n",
    "faces = base.faces_packed()\n",
    "tex = TexturesVertex(verts_features=torch.ones_like(verts)[None])\n",
    "mesh = Meshes(verts=[verts], faces=[faces], textures=tex).to(device)\n",
    "\n",
    "cameras = PerspectiveCameras(device=device)\n",
    "raster_settings = RasterizationSettings(image_size=256)\n",
    "lights = PointLights(device=device, location=[[2, 2, 2]])\n",
    "\n",
    "renderer = MeshRenderer(\n",
    "    rasterizer=MeshRasterizer(cameras=cameras, raster_settings=raster_settings),\n",
    "    shader=SoftPhongShader(device=device, cameras=cameras, lights=lights),\n",
    ")\n",
    "\n",
    "image = renderer(mesh)\n",
    "plt.imshow(image[0, ..., :3].detach().cpu().numpy())\n",
    "plt.title('PyTorch3D smoke test')\n",
    "plt.axis('off'); plt.show()"
   ]
  },
  {
   "cell_type": "markdown",
   "id": "72c00b7c",
   "metadata": {},
   "source": [
    "### Utils: Cargar `.off` y muestrear cloud de puntos (ModelNet40)"
   ]
  },
  {
   "cell_type": "code",
   "execution_count": 4,
   "id": "e457ba3d",
   "metadata": {},
   "outputs": [],
   "source": [
    "import numpy as np, pathlib, trimesh\n",
    "\n",
    "def load_off(path):\n",
    "    mesh = trimesh.load_mesh(path, file_type='off', process=False)\n",
    "    if not isinstance(mesh, trimesh.Trimesh):\n",
    "        mesh = mesh.dump(concatenate=True)\n",
    "    mesh.apply_translation(-mesh.centroid)\n",
    "    scale = max(mesh.extents)\n",
    "    if scale > 0:\n",
    "        mesh.apply_scale(1.0/scale)\n",
    "    return mesh\n",
    "\n",
    "def sample_point_cloud(mesh: trimesh.Trimesh, n_points: int = 2048):\n",
    "    pts, _ = trimesh.sample.sample_surface(mesh, n_points)\n",
    "    return pts.astype(np.float32)\n"
   ]
  },
  {
   "cell_type": "markdown",
   "id": "5a895a9b",
   "metadata": {},
   "source": [
    "### Baseline **PSGN** (imagen → nube de puntos)"
   ]
  },
  {
   "cell_type": "code",
   "execution_count": 5,
   "id": "a550cb33",
   "metadata": {},
   "outputs": [],
   "source": [
    "import torch\n",
    "import torch.nn as nn\n",
    "import torch.nn.functional as F\n",
    "from torchvision.models import resnet18, ResNet18_Weights\n",
    "\n",
    "class PSGN(nn.Module):\n",
    "    def __init__(self, n_points: int = 2048, pretrained: bool = True, feat_dim: int = 512):\n",
    "        super().__init__()\n",
    "        weights = ResNet18_Weights.IMAGENET1K_V1 if pretrained else None\n",
    "        backbone = resnet18(weights=weights)\n",
    "        backbone.fc = nn.Identity()\n",
    "        self.encoder = backbone\n",
    "        self.mlp = nn.Sequential(\n",
    "            nn.Linear(feat_dim, 1024),\n",
    "            nn.ReLU(inplace=True),\n",
    "            nn.Linear(1024, n_points * 3)\n",
    "        )\n",
    "        self.n_points = n_points\n",
    "\n",
    "    def forward(self, x):\n",
    "        f = self.encoder(x)\n",
    "        out = self.mlp(f)\n",
    "        pts = out.view(-1, self.n_points, 3)\n",
    "        return pts\n"
   ]
  },
  {
   "cell_type": "markdown",
   "id": "67f8a28e",
   "metadata": {},
   "source": [
    "### Loss: Chamfer Distance"
   ]
  },
  {
   "cell_type": "code",
   "execution_count": 6,
   "id": "87becfce",
   "metadata": {},
   "outputs": [],
   "source": [
    "import torch\n",
    "\n",
    "def chamfer_distance(x: torch.Tensor, y: torch.Tensor) -> torch.Tensor:\n",
    "    d = torch.cdist(x, y, p=2)\n",
    "    mins1 = d.min(dim=2).values\n",
    "    mins2 = d.min(dim=1).values\n",
    "    return (mins1.mean(dim=1) + mins2.mean(dim=1)).mean()\n"
   ]
  },
  {
   "cell_type": "markdown",
   "id": "8ec8ee5c",
   "metadata": {},
   "source": [
    "### Prueba de Entrenamiento mínimo"
   ]
  },
  {
   "cell_type": "code",
   "execution_count": 7,
   "id": "963fc5da",
   "metadata": {},
   "outputs": [
    {
     "name": "stderr",
     "output_type": "stream",
     "text": [
      "C:\\Users\\fabri\\AppData\\Local\\Temp\\ipykernel_35452\\1107575679.py:28: FutureWarning: `torch.cuda.amp.GradScaler(args...)` is deprecated. Please use `torch.amp.GradScaler('cuda', args...)` instead.\n",
      "  scaler = torch.cuda.amp.GradScaler(enabled=(device.type == 'cuda'))\n",
      "C:\\Users\\fabri\\AppData\\Local\\Temp\\ipykernel_35452\\1107575679.py:52: FutureWarning: `torch.cuda.amp.autocast(args...)` is deprecated. Please use `torch.amp.autocast('cuda', args...)` instead.\n",
      "  with torch.cuda.amp.autocast(enabled=(device.type=='cuda')):\n"
     ]
    },
    {
     "name": "stdout",
     "output_type": "stream",
     "text": [
      "Batch OK: torch.Size([8, 3, 224, 224]) torch.Size([8, 2048, 3])\n",
      "Epoch 1 | Loss: 0.0950 | 2.1s\n",
      "Epoch 2 | Loss: 0.0945 | 1.0s\n"
     ]
    }
   ],
   "source": [
    "import torch, time\n",
    "import numpy as np\n",
    "from PIL import Image\n",
    "from torch.utils.data import Dataset, DataLoader\n",
    "from torchvision import transforms\n",
    "\n",
    "# Dataset dummy\n",
    "class DummyPairs(Dataset):\n",
    "    def __init__(self, num=64, n_points=2048):\n",
    "        self.num = num\n",
    "        self.n_points = n_points\n",
    "        self.tf = transforms.Compose([\n",
    "            transforms.Resize((224, 224)),\n",
    "            transforms.ToTensor(),\n",
    "            transforms.Normalize(mean=[0.485,0.456,0.406], std=[0.229,0.224,0.225]),\n",
    "        ])\n",
    "    def __len__(self):\n",
    "        return self.num\n",
    "    def __getitem__(self, i):\n",
    "        img_np = (np.random.rand(256, 256, 3) * 255).astype('uint8')\n",
    "        img = Image.fromarray(img_np)\n",
    "        pc = torch.randn(self.n_points, 3) * 0.25\n",
    "        return self.tf(img), pc\n",
    "\n",
    "device = torch.device('cuda' if torch.cuda.is_available() else 'cpu')\n",
    "model = PSGN(n_points=2048, pretrained=True).to(device)\n",
    "opt = torch.optim.AdamW(model.parameters(), lr=1e-4)\n",
    "scaler = torch.cuda.amp.GradScaler(enabled=(device.type == 'cuda'))\n",
    "\n",
    "ds = DummyPairs(num=128, n_points=2048)\n",
    "\n",
    "dl = DataLoader(\n",
    "    ds, batch_size=8, shuffle=True,\n",
    "    num_workers=0,                # ← evita multiprocessing en Jupyter/Windows\n",
    "    pin_memory=(device.type=='cuda'),\n",
    "    persistent_workers=False\n",
    ")\n",
    "\n",
    "# Sanity check\n",
    "imgs, pc_gt = next(iter(dl))\n",
    "print(\"Batch OK:\", imgs.shape, pc_gt.shape)\n",
    "\n",
    "# Train \n",
    "for epoch in range(2):\n",
    "    model.train()\n",
    "    loss_epoch = 0.0\n",
    "    t0 = time.time()\n",
    "    for imgs, pc_gt in dl:\n",
    "        imgs = imgs.to(device, non_blocking=True)\n",
    "        pc_gt = pc_gt.to(device, non_blocking=True)\n",
    "        opt.zero_grad(set_to_none=True)\n",
    "        with torch.cuda.amp.autocast(enabled=(device.type=='cuda')):\n",
    "            pc_pred = model(imgs)\n",
    "            loss = chamfer_distance(pc_pred, pc_gt)\n",
    "        scaler.scale(loss).backward()\n",
    "        scaler.step(opt)\n",
    "        scaler.update()\n",
    "        loss_epoch += loss.item() * imgs.size(0)\n",
    "    print(f\"Epoch {epoch+1} | Loss: {loss_epoch/len(ds):.4f} | {time.time()-t0:.1f}s\")\n"
   ]
  },
  {
   "cell_type": "markdown",
   "id": "90058338",
   "metadata": {},
   "source": [
    "### Exportar cloud de puntos a `.ply`"
   ]
  },
  {
   "cell_type": "code",
   "execution_count": 8,
   "id": "d94b6bf2",
   "metadata": {},
   "outputs": [
    {
     "name": "stdout",
     "output_type": "stream",
     "text": [
      "Jupyter environment detected. Enabling Open3D WebVisualizer.\n",
      "[Open3D INFO] WebRTC GUI backend enabled.\n",
      "[Open3D INFO] WebRTCWindowSystem: HTTP handshake server disabled.\n",
      "Guardado: sample_pred.ply\n"
     ]
    }
   ],
   "source": [
    "import open3d as o3d\n",
    "import numpy as np\n",
    "import torch\n",
    "\n",
    "with torch.no_grad():\n",
    "    sample = torch.randn(2048,3).cpu().numpy()\n",
    "\n",
    "pcd = o3d.geometry.PointCloud()\n",
    "pcd.points = o3d.utility.Vector3dVector(sample.astype(np.float64))\n",
    "o3d.io.write_point_cloud('sample_pred.ply', pcd)\n",
    "print('Guardado:', 'sample_pred.ply')\n"
   ]
  },
  {
   "cell_type": "markdown",
   "id": "656e3819",
   "metadata": {},
   "source": [
    "## Entrenamiento con dataset real"
   ]
  },
  {
   "cell_type": "markdown",
   "id": "56abfe66",
   "metadata": {},
   "source": [
    "### Configura la ruta del dataset y lista los .off"
   ]
  },
  {
   "cell_type": "code",
   "execution_count": 9,
   "id": "be0e5b32",
   "metadata": {},
   "outputs": [
    {
     "name": "stdout",
     "output_type": "stream",
     "text": [
      "Train .off: 0 | Test .off: 0\n"
     ]
    },
    {
     "data": {
      "text/plain": [
       "[]"
      ]
     },
     "execution_count": 9,
     "metadata": {},
     "output_type": "execute_result"
    }
   ],
   "source": [
    "import pathlib, os, glob\n",
    "\n",
    "DATA_DIR = pathlib.Path(r\"C:\\Users\\fabri\\Desktop\\Portfolio\\Reconstruccion-3D\\data\")\n",
    "assert DATA_DIR.exists(), f\"No existe: {DATA_DIR}\"\n",
    "\n",
    "train_offs = sorted(DATA_DIR.glob(\"*\\\\train\\\\*.off\"))\n",
    "test_offs  = sorted(DATA_DIR.glob(\"*\\\\test\\\\*.off\"))\n",
    "print(\"Train .off:\", len(train_offs), \"| Test .off:\", len(test_offs))\n",
    "train_offs[:3]"
   ]
  },
  {
   "cell_type": "markdown",
   "id": "3118da7b",
   "metadata": {},
   "source": [
    "### Renderer de PyTorch3D (RGB simple)"
   ]
  },
  {
   "cell_type": "code",
   "execution_count": 10,
   "id": "5750fcc9",
   "metadata": {},
   "outputs": [
    {
     "name": "stdout",
     "output_type": "stream",
     "text": [
      "Renderer listo en cuda\n"
     ]
    }
   ],
   "source": [
    "import torch\n",
    "from pytorch3d.renderer import (\n",
    "    FoVPerspectiveCameras, RasterizationSettings, MeshRenderer, MeshRasterizer,\n",
    "    SoftPhongShader, PointLights, look_at_view_transform\n",
    ")\n",
    "\n",
    "device = torch.device('cuda' if torch.cuda.is_available() else 'cpu')\n",
    "\n",
    "def make_renderer(image_size=224):\n",
    "    cameras = FoVPerspectiveCameras(device=device)\n",
    "    raster_settings = RasterizationSettings(image_size=image_size)\n",
    "    lights = PointLights(device=device, location=[[2.0, 2.0, 2.0]])\n",
    "    renderer = MeshRenderer(\n",
    "        rasterizer=MeshRasterizer(cameras=cameras, raster_settings=raster_settings),\n",
    "        shader=SoftPhongShader(device=device, cameras=cameras, lights=lights),\n",
    "    )\n",
    "    return renderer\n",
    "\n",
    "renderer = make_renderer(image_size=224)\n",
    "print(\"Renderer listo en\", device)\n"
   ]
  },
  {
   "cell_type": "markdown",
   "id": "674d8018",
   "metadata": {},
   "source": [
    "### Utilidades: cargar .off, normalizar y construir Meshes de PyTorch3D"
   ]
  },
  {
   "cell_type": "code",
   "execution_count": 11,
   "id": "78afb388",
   "metadata": {},
   "outputs": [],
   "source": [
    "import numpy as np, trimesh\n",
    "from pytorch3d.structures import Meshes\n",
    "from pytorch3d.renderer import TexturesVertex\n",
    "\n",
    "def load_off_unit(path_off: pathlib.Path):\n",
    "    mesh = trimesh.load_mesh(path_off, file_type='off', process=False)\n",
    "    if not isinstance(mesh, trimesh.Trimesh):\n",
    "        mesh = mesh.dump(concatenate=True)\n",
    "    mesh.apply_translation(-mesh.centroid)\n",
    "    scale = max(mesh.extents)\n",
    "    if scale > 0:\n",
    "        mesh.apply_scale(1.0/scale)\n",
    "    return mesh\n",
    "\n",
    "def trimesh_to_p3d(mesh: trimesh.Trimesh, device=device):\n",
    "    verts = torch.tensor(np.asarray(mesh.vertices), dtype=torch.float32, device=device)\n",
    "    faces = torch.tensor(np.asarray(mesh.faces), dtype=torch.int64, device=device)\n",
    "    tex = TexturesVertex(verts_features=torch.ones_like(verts)[None])\n",
    "    return Meshes(verts=[verts], faces=[faces], textures=tex)\n",
    "\n",
    "def sample_point_cloud(mesh: trimesh.Trimesh, n_points=2048):\n",
    "    pts, _ = trimesh.sample.sample_surface(mesh, n_points)\n",
    "    return torch.tensor(pts, dtype=torch.float32)\n"
   ]
  },
  {
   "cell_type": "markdown",
   "id": "c8605c8b",
   "metadata": {},
   "source": [
    "### Dataset real: render RGB + nube de puntos GT"
   ]
  },
  {
   "cell_type": "code",
   "execution_count": 12,
   "id": "43d74dd9",
   "metadata": {},
   "outputs": [],
   "source": [
    "from torch.utils.data import Dataset\n",
    "from torchvision import transforms\n",
    "from PIL import Image\n",
    "import math, random\n",
    "\n",
    "class ModelNetRenderDataset(Dataset):\n",
    "    def __init__(self, off_paths, n_points=2048, image_size=224, views=None, pretrained_norm=True):\n",
    "        self.off_paths = list(off_paths)\n",
    "        self.n_points = n_points\n",
    "        self.image_size = image_size\n",
    "        self.views = views or [  # (elev, azim, dist)\n",
    "            (15, -30, 2.7), (15, 30, 2.7), (25, -45, 2.7), (25, 45, 2.7),\n",
    "            (30, 0, 2.7), (10, 60, 2.7), (10, -60, 2.7)\n",
    "        ]\n",
    "        mean_std = ([0.485,0.456,0.406],[0.229,0.224,0.225]) if pretrained_norm else ([0.5]*3,[0.5]*3)\n",
    "        self.tf = transforms.Compose([\n",
    "            transforms.ToTensor(),\n",
    "            transforms.Normalize(*mean_std),\n",
    "        ])\n",
    "\n",
    "    def __len__(self):\n",
    "        return len(self.off_paths)\n",
    "\n",
    "    @torch.no_grad()\n",
    "    def __getitem__(self, i):\n",
    "        path = self.off_paths[i]\n",
    "        mesh_tm = load_off_unit(path)\n",
    "        pc_gt   = sample_point_cloud(mesh_tm, self.n_points)     # (N,3) CPU\n",
    "\n",
    "        # Render en vista aleatoria\n",
    "        elev, azim, dist = random.choice(self.views)\n",
    "        R, T = look_at_view_transform(dist=dist, elev=elev, azim=azim, device=device)\n",
    "        mesh_p3d = trimesh_to_p3d(mesh_tm, device=device)\n",
    "\n",
    "        images = renderer(mesh_p3d, cameras=FoVPerspectiveCameras(device=device, R=R, T=T))\n",
    "        img = images[0, ..., :3].detach().cpu().numpy()  # (H,W,3), float32 [0,1]\n",
    "        img = Image.fromarray((img*255).astype('uint8'))\n",
    "\n",
    "        # Resize aquí para mantener antialias nativo de PIL\n",
    "        img = img.resize((self.image_size, self.image_size), Image.BILINEAR)\n",
    "        return self.tf(img), pc_gt"
   ]
  },
  {
   "cell_type": "markdown",
   "id": "af813934",
   "metadata": {},
   "source": [
    "### Check: batch real"
   ]
  },
  {
   "cell_type": "code",
   "execution_count": 13,
   "id": "6e6e2dcf",
   "metadata": {},
   "outputs": [
    {
     "name": "stdout",
     "output_type": "stream",
     "text": [
      "Total .off encontrados: 12311\n",
      "Train .off: 9843 | Test .off: 2468\n",
      "Ejemplos train: [WindowsPath('C:/Users/fabri/Desktop/Portfolio/Reconstruccion-3D/data/ModelNet40/ModelNet40/airplane/train/airplane_0001.off'), WindowsPath('C:/Users/fabri/Desktop/Portfolio/Reconstruccion-3D/data/ModelNet40/ModelNet40/airplane/train/airplane_0002.off'), WindowsPath('C:/Users/fabri/Desktop/Portfolio/Reconstruccion-3D/data/ModelNet40/ModelNet40/airplane/train/airplane_0003.off')]\n",
      "Ejemplos test : [WindowsPath('C:/Users/fabri/Desktop/Portfolio/Reconstruccion-3D/data/ModelNet40/ModelNet40/airplane/test/airplane_0627.off'), WindowsPath('C:/Users/fabri/Desktop/Portfolio/Reconstruccion-3D/data/ModelNet40/ModelNet40/airplane/test/airplane_0628.off'), WindowsPath('C:/Users/fabri/Desktop/Portfolio/Reconstruccion-3D/data/ModelNet40/ModelNet40/airplane/test/airplane_0629.off')]\n"
     ]
    }
   ],
   "source": [
    "from pathlib import Path\n",
    "\n",
    "ROOT = Path(r\"C:\\Users\\fabri\\Desktop\\Portfolio\\Reconstruccion-3D\\data\").resolve()\n",
    "assert ROOT.exists(), f\"No existe: {ROOT}\"\n",
    "\n",
    "all_offs = list(ROOT.rglob(\"*.off\"))\n",
    "print(\"Total .off encontrados:\", len(all_offs))\n",
    "if len(all_offs) < 10:\n",
    "    print(\"⚠️ Muy pocos .off. Revisa la ruta ROOT o si el ZIP se descomprimió bien.\")\n",
    "\n",
    "def has_part(p: Path, name: str) -> bool:\n",
    "    return any(part.lower() == name for part in p.parts)\n",
    "\n",
    "train_offs = sorted([p for p in all_offs if has_part(p, \"train\")])\n",
    "test_offs  = sorted([p for p in all_offs if has_part(p, \"test\")])\n",
    "\n",
    "print(\"Train .off:\", len(train_offs), \"| Test .off:\", len(test_offs))\n",
    "print(\"Ejemplos train:\", train_offs[:3])\n",
    "print(\"Ejemplos test :\", test_offs[:3])\n"
   ]
  },
  {
   "cell_type": "code",
   "execution_count": 14,
   "id": "c34e34af",
   "metadata": {},
   "outputs": [
    {
     "name": "stdout",
     "output_type": "stream",
     "text": [
      "imgs: torch.Size([4, 3, 224, 224]) | pc_gt: torch.Size([4, 2048, 3])\n"
     ]
    }
   ],
   "source": [
    "# (Reusa tu ModelNetRenderDataset/renderer ya definidos)\n",
    "assert len(train_offs) > 0 and len(test_offs) > 0, \"No se hallaron .off en train/test. Ajusta ROOT o descomprime el dataset.\"\n",
    "\n",
    "train_ds = ModelNetRenderDataset(train_offs, n_points=2048, image_size=224, pretrained_norm=True)\n",
    "test_ds  = ModelNetRenderDataset(test_offs,  n_points=2048, image_size=224, pretrained_norm=True)\n",
    "\n",
    "from torch.utils.data import DataLoader\n",
    "dl = DataLoader(train_ds, batch_size=4, shuffle=True, num_workers=0, pin_memory=(device.type=='cuda'))\n",
    "\n",
    "imgs, pc_gt = next(iter(dl))\n",
    "print(\"imgs:\", imgs.shape, \"| pc_gt:\", pc_gt.shape)"
   ]
  },
  {
   "cell_type": "markdown",
   "id": "33378fa8",
   "metadata": {},
   "source": [
    "### Entrenar el PSGN con dataset"
   ]
  },
  {
   "cell_type": "code",
   "execution_count": 16,
   "id": "ae7b460c",
   "metadata": {},
   "outputs": [
    {
     "name": "stderr",
     "output_type": "stream",
     "text": [
      "C:\\Users\\fabri\\AppData\\Local\\Temp\\ipykernel_35452\\955599031.py:4: FutureWarning: `torch.cuda.amp.GradScaler(args...)` is deprecated. Please use `torch.amp.GradScaler('cuda', args...)` instead.\n",
      "  scaler = torch.cuda.amp.GradScaler(enabled=(device.type=='cuda'))\n",
      "C:\\Users\\fabri\\AppData\\Local\\Temp\\ipykernel_35452\\955599031.py:15: FutureWarning: `torch.cuda.amp.autocast(args...)` is deprecated. Please use `torch.amp.autocast('cuda', args...)` instead.\n",
      "  with torch.cuda.amp.autocast(enabled=(device.type=='cuda')):\n"
     ]
    },
    {
     "name": "stdout",
     "output_type": "stream",
     "text": [
      "Epoch 1 | Loss: 0.10243\n",
      "Epoch 2 | Loss: 0.08702\n",
      "Epoch 3 | Loss: 0.08124\n",
      "Epoch 4 | Loss: 0.07748\n",
      "Epoch 5 | Loss: 0.07460\n",
      "Epoch 6 | Loss: 0.07238\n",
      "Epoch 7 | Loss: 0.07065\n",
      "Epoch 8 | Loss: 0.06930\n",
      "Epoch 9 | Loss: 0.06815\n",
      "Epoch 10 | Loss: 0.06721\n"
     ]
    }
   ],
   "source": [
    "model = PSGN(n_points=2048, pretrained=True).to(device)\n",
    "opt = torch.optim.AdamW(model.parameters(), lr=1e-4, weight_decay=1e-4)\n",
    "scaler = torch.cuda.amp.GradScaler(enabled=(device.type=='cuda'))\n",
    "\n",
    "train_dl = DataLoader(train_ds, batch_size=8, shuffle=True, num_workers=0, pin_memory=(device.type=='cuda'))\n",
    "\n",
    "for epoch in range(10):\n",
    "    model.train()\n",
    "    loss_epoch = 0.0\n",
    "    for imgs, pc_gt in train_dl:\n",
    "        imgs  = imgs.to(device, non_blocking=True)\n",
    "        pc_gt = pc_gt.to(device, non_blocking=True)\n",
    "        opt.zero_grad(set_to_none=True)\n",
    "        with torch.cuda.amp.autocast(enabled=(device.type=='cuda')):\n",
    "            pc_pred = model(imgs)\n",
    "            loss = chamfer_distance(pc_pred, pc_gt)\n",
    "        scaler.scale(loss).backward()\n",
    "        scaler.step(opt)\n",
    "        scaler.update()\n",
    "        loss_epoch += loss.item() * imgs.size(0)\n",
    "    print(f\"Epoch {epoch+1} | Loss: {loss_epoch/len(train_ds):.5f}\")"
   ]
  },
  {
   "cell_type": "markdown",
   "id": "e0b6284e",
   "metadata": {},
   "source": [
    "### Export .ply "
   ]
  },
  {
   "cell_type": "code",
   "execution_count": 17,
   "id": "b8e3c734",
   "metadata": {},
   "outputs": [
    {
     "name": "stdout",
     "output_type": "stream",
     "text": [
      "Guardado: c:\\Users\\fabri\\Desktop\\Portfolio\\Reconstruccion-3D\\recon_pred.ply\n"
     ]
    }
   ],
   "source": [
    "import open3d as o3d\n",
    "\n",
    "model.eval()\n",
    "with torch.no_grad():\n",
    "    img, pc_gt = test_ds[0]\n",
    "    pc_pred = model(img.unsqueeze(0).to(device)).squeeze(0).cpu().numpy()\n",
    "\n",
    "pcd = o3d.geometry.PointCloud()\n",
    "pcd.points = o3d.utility.Vector3dVector(pc_pred.astype(np.float64))\n",
    "o3d.io.write_point_cloud(\"recon_pred.ply\", pcd)\n",
    "print(\"Guardado:\", os.path.abspath(\"recon_pred.ply\"))"
   ]
  },
  {
   "cell_type": "markdown",
   "id": "447416eb",
   "metadata": {},
   "source": [
    "### Visualizacion .ply"
   ]
  },
  {
   "cell_type": "code",
   "execution_count": 18,
   "id": "9949bd6b",
   "metadata": {},
   "outputs": [],
   "source": [
    "import open3d as o3d\n",
    "pcd = o3d.io.read_point_cloud(r\"C:\\Users\\fabri\\Desktop\\Portfolio\\Reconstruccion-3D\\recon_pred.ply\")\n",
    "o3d.visualization.draw_geometries([pcd]) "
   ]
  },
  {
   "cell_type": "markdown",
   "id": "1d7803cf",
   "metadata": {},
   "source": [
    "### Guardar modelo"
   ]
  },
  {
   "cell_type": "code",
   "execution_count": 19,
   "id": "31a58c94",
   "metadata": {},
   "outputs": [],
   "source": [
    "import torch\n",
    "torch.save(\n",
    "    {\"state_dict\": model.state_dict(), \"n_points\": getattr(model, \"n_points\", 2048)},\n",
    "    \"psgn_modelnet40.pt\"\n",
    ")"
   ]
  },
  {
   "cell_type": "markdown",
   "id": "2bcdf38c",
   "metadata": {},
   "source": [
    "### Evaluación (Chamfer y F-score@τ)"
   ]
  },
  {
   "cell_type": "code",
   "execution_count": 20,
   "id": "c1805e9d",
   "metadata": {},
   "outputs": [
    {
     "name": "stdout",
     "output_type": "stream",
     "text": [
      "Chamfer: 0.031435608863830566\n",
      "F@1%: 0.486 (P=0.500, R=0.473)\n"
     ]
    },
    {
     "data": {
      "text/plain": [
       "True"
      ]
     },
     "execution_count": 20,
     "metadata": {},
     "output_type": "execute_result"
    }
   ],
   "source": [
    "import torch, numpy as np, open3d as o3d\n",
    "\n",
    "# elige un índice de test\n",
    "i = 0\n",
    "img, pc_gt = test_ds[i]                 # (3, H, W), (N,3) tensor CPU\n",
    "pc_pred = model(img.unsqueeze(0).to(device)).squeeze(0).detach().cpu()  # (N,3)\n",
    "\n",
    "# Chamfer\n",
    "def chamfer_torch(x, y):\n",
    "    d = torch.cdist(x, y, p=2)\n",
    "    return d.min(1).values.mean() + d.min(0).values.mean()\n",
    "\n",
    "cd = chamfer_torch(pc_pred, pc_gt)\n",
    "print(\"Chamfer:\", float(cd))\n",
    "\n",
    "# F-score@tau (tau ~ 1% del diámetro)\n",
    "def fscore(pred, gt, tau=0.01):\n",
    "    # normaliza por el radio del GT\n",
    "    scale = (gt.max(0).values - gt.min(0).values).norm()\n",
    "    thr = tau * float(scale)\n",
    "\n",
    "    D = torch.cdist(pred, gt, p=2)\n",
    "    prec = (D.min(1).values < thr).float().mean()\n",
    "    rec  = (D.min(0).values < thr).float().mean()\n",
    "    if prec + rec == 0: return 0.0, float(prec), float(rec)\n",
    "    F = 2 * (prec * rec) / (prec + rec)\n",
    "    return float(F), float(prec), float(rec)\n",
    "\n",
    "F, P, R = fscore(pc_pred, pc_gt, tau=0.01)\n",
    "print(f\"F@1%: {F:.3f} (P={P:.3f}, R={R:.3f})\")\n",
    "\n",
    "# Exportar ambos para inspección\n",
    "pred_o3d = o3d.geometry.PointCloud(); pred_o3d.points = o3d.utility.Vector3dVector(pc_pred.numpy().astype(np.float64))\n",
    "gt_o3d   = o3d.geometry.PointCloud(); gt_o3d.points   = o3d.utility.Vector3dVector(pc_gt.numpy().astype(np.float64))\n",
    "o3d.io.write_point_cloud(\"recon_pred_eval.ply\", pred_o3d)\n",
    "o3d.io.write_point_cloud(\"recon_gt_eval.ply\",   gt_o3d)"
   ]
  },
  {
   "cell_type": "markdown",
   "id": "55bf9864",
   "metadata": {},
   "source": [
    "### Tests"
   ]
  },
  {
   "cell_type": "markdown",
   "id": "1c375846",
   "metadata": {},
   "source": [
    "### Utils (denormalizar y figura side-by-side)"
   ]
  },
  {
   "cell_type": "code",
   "execution_count": 21,
   "id": "dae607fa",
   "metadata": {},
   "outputs": [],
   "source": [
    "from pathlib import Path\n",
    "import os, time, csv\n",
    "import numpy as np\n",
    "import torch\n",
    "import matplotlib.pyplot as plt\n",
    "\n",
    "TESTS_DIR = Path(r\"C:\\Users\\fabri\\Desktop\\Portfolio\\Reconstruccion-3D\\tests\")\n",
    "TESTS_DIR.mkdir(parents=True, exist_ok=True)\n",
    "\n",
    "# Invertir normalización ImageNet (para mostrar la imagen de entrada)\n",
    "def denorm_imagen(img_t: torch.Tensor):\n",
    "    mean = torch.tensor([0.485, 0.456, 0.406], device=img_t.device).view(3,1,1)\n",
    "    std  = torch.tensor([0.229, 0.224, 0.225], device=img_t.device).view(3,1,1)\n",
    "    x = (img_t * std + mean).clamp(0,1)\n",
    "    x = (x.permute(1,2,0).cpu().numpy() * 255).astype(np.uint8)\n",
    "    return x\n",
    "\n",
    "# Guardar triptico: entrada | pred | GT\n",
    "def save_triptych(img_t, pc_pred, pc_gt, out_png, title=None):\n",
    "    fig = plt.figure(figsize=(12,4))\n",
    "\n",
    "    # Panel 1: imagen\n",
    "    ax0 = fig.add_subplot(1,3,1)\n",
    "    ax0.imshow(denorm_imagen(img_t))\n",
    "    ax0.set_title(\"Input image\")\n",
    "    ax0.axis(\"off\")\n",
    "\n",
    "    # Panel 2: pred\n",
    "    ax1 = fig.add_subplot(1,3,2, projection=\"3d\")\n",
    "    p = pc_pred.detach().cpu().numpy()\n",
    "    ax1.scatter(p[:,0], p[:,1], p[:,2], s=1)\n",
    "    lim = np.max(np.abs(p)) * 1.1 if p.size else 1\n",
    "    ax1.set_xlim(-lim, lim); ax1.set_ylim(-lim, lim); ax1.set_zlim(-lim, lim)\n",
    "    ax1.set_title(\"Prediction (point cloud)\"); ax1.set_axis_off()\n",
    "\n",
    "    # Panel 3: GT\n",
    "    ax2 = fig.add_subplot(1,3,3, projection=\"3d\")\n",
    "    g = pc_gt.detach().cpu().numpy()\n",
    "    lim2 = np.max(np.abs(g)) * 1.1 if g.size else 1\n",
    "    ax2.scatter(g[:,0], g[:,1], g[:,2], s=1)\n",
    "    ax2.set_xlim(-lim2, lim2); ax2.set_ylim(-lim2, lim2); ax2.set_zlim(-lim2, lim2)\n",
    "    ax2.set_title(\"Ground Truth\"); ax2.set_axis_off()\n",
    "\n",
    "    if title:\n",
    "        fig.suptitle(title, y=1.02, fontsize=12)\n",
    "    plt.tight_layout()\n",
    "    fig.savefig(out_png, dpi=150, bbox_inches=\"tight\")\n",
    "    plt.close(fig)"
   ]
  },
  {
   "cell_type": "markdown",
   "id": "f9a3b5e6",
   "metadata": {},
   "source": [
    "### Métricas (Chamfer y F-score@τ)"
   ]
  },
  {
   "cell_type": "code",
   "execution_count": 22,
   "id": "a2c201fb",
   "metadata": {},
   "outputs": [],
   "source": [
    "import open3d as o3d\n",
    "\n",
    "def chamfer_torch(x: torch.Tensor, y: torch.Tensor) -> float:\n",
    "    d = torch.cdist(x, y, p=2)\n",
    "    return float(d.min(1).values.mean() + d.min(0).values.mean())\n",
    "\n",
    "def fscore_tau(pred: torch.Tensor, gt: torch.Tensor, tau=0.01):\n",
    "    # umbral relativo al tamaño del GT\n",
    "    scale = (gt.max(0).values - gt.min(0).values).norm()\n",
    "    thr = float(tau * scale)\n",
    "    D = torch.cdist(pred, gt, p=2)\n",
    "    prec = (D.min(1).values < thr).float().mean()\n",
    "    rec  = (D.min(0).values < thr).float().mean()\n",
    "    F = 0.0 if (prec+rec)==0 else 2*(prec*rec)/(prec+rec)\n",
    "    return float(F), float(prec), float(rec)\n",
    "\n",
    "def save_ply(points_t, path):\n",
    "    pts = points_t.detach().cpu().numpy().astype(np.float64)\n",
    "    pcd = o3d.geometry.PointCloud()\n",
    "    pcd.points = o3d.utility.Vector3dVector(pts)\n",
    "    o3d.io.write_point_cloud(str(path), pcd)"
   ]
  },
  {
   "cell_type": "markdown",
   "id": "3d4bef9c",
   "metadata": {},
   "source": [
    "### Tests"
   ]
  },
  {
   "cell_type": "code",
   "execution_count": 23,
   "id": "74f6e243",
   "metadata": {},
   "outputs": [
    {
     "name": "stdout",
     "output_type": "stream",
     "text": [
      "Listo  C:\\Users\\fabri\\Desktop\\Portfolio\\Reconstruccion-3D\\tests\n"
     ]
    }
   ],
   "source": [
    "import random\n",
    "\n",
    "# Parámetros de prueba\n",
    "K = 10              # cuántas muestras quieres evaluar/guardar\n",
    "TAU = 0.01          # F-score@tau\n",
    "random.seed(0)\n",
    "\n",
    "# Elegimos K índices válidos\n",
    "idxs = random.sample(range(len(test_ds)), k=min(K, len(test_ds)))\n",
    "\n",
    "csv_path = TESTS_DIR / \"results.csv\"\n",
    "write_header = not csv_path.exists()\n",
    "\n",
    "with open(csv_path, \"a\", newline=\"\", encoding=\"utf-8\") as f:\n",
    "    w = csv.writer(f)\n",
    "    if write_header:\n",
    "        w.writerow([\"idx\",\"category\",\"png\",\"ply_pred\",\"ply_gt\",\"chamfer\",\"F_tau\",\"P\",\"R\",\"tau\"])\n",
    "\n",
    "    model.eval()\n",
    "    for i in idxs:\n",
    "        # Recuperar ruta para saber la clase/categoría (según estructura ModelNet40)\n",
    "        path_off = test_ds.off_paths[i]\n",
    "        # ej.: ...\\chair\\test\\chair_0001.off  => categoría = 'chair'\n",
    "        category = path_off.parent.parent.name if path_off.suffix.lower()==\".off\" else \"unknown\"\n",
    "\n",
    "        # Datos\n",
    "        img_t, pc_gt = test_ds[i]                       # img normalizada; pc_gt en CPU\n",
    "        with torch.no_grad():\n",
    "            pc_pred = model(img_t.unsqueeze(0).to(device)).squeeze(0).cpu()\n",
    "\n",
    "        # Métricas\n",
    "        cd = chamfer_torch(pc_pred, pc_gt)\n",
    "        F, P, R = fscore_tau(pc_pred, pc_gt, tau=TAU)\n",
    "\n",
    "        # Nombres de archivos\n",
    "        stamp = time.strftime(\"%Y%m%d-%H%M%S\")\n",
    "        base = f\"{category}_{i}_{stamp}\"\n",
    "        png_path = TESTS_DIR / f\"{base}.png\"\n",
    "        ply_pred_path = TESTS_DIR / f\"{base}_pred.ply\"\n",
    "        ply_gt_path   = TESTS_DIR / f\"{base}_gt.ply\"\n",
    "\n",
    "        # Guardar visual y PLYs\n",
    "        save_triptych(img_t, pc_pred, pc_gt, png_path, title=f\"{category} | CD={cd:.4f} | F@{TAU*100:.1f}%={F:.3f}\")\n",
    "        save_ply(pc_pred, ply_pred_path)\n",
    "        save_ply(pc_gt,   ply_gt_path)\n",
    "\n",
    "        # Registrar en CSV\n",
    "        w.writerow([i, category, str(png_path), str(ply_pred_path), str(ply_gt_path), f\"{cd:.6f}\", f\"{F:.6f}\", f\"{P:.6f}\", f\"{R:.6f}\", TAU])\n",
    "\n",
    "print(\"Listo \", TESTS_DIR)"
   ]
  }
 ],
 "metadata": {
  "kernelspec": {
   "display_name": "nlp311",
   "language": "python",
   "name": "python3"
  },
  "language_info": {
   "codemirror_mode": {
    "name": "ipython",
    "version": 3
   },
   "file_extension": ".py",
   "mimetype": "text/x-python",
   "name": "python",
   "nbconvert_exporter": "python",
   "pygments_lexer": "ipython3",
   "version": "3.11.11"
  }
 },
 "nbformat": 4,
 "nbformat_minor": 5
}
