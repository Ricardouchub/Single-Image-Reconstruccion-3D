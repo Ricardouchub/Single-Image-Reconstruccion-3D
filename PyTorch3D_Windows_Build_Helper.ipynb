{
 "cells": [
  {
   "cell_type": "markdown",
   "id": "741288ae",
   "metadata": {},
   "source": [
    "# PyTorch3D Build Helper (Windows, Torch 2.6.0 + CUDA 12.4)\n",
    "\n",
    "Guía paso a paso para preparar **Windows** y poder **compilar PyTorch3D** contra `torch==2.6.0+cu124`.\n",
    "\n",
    "---\n",
    "## 1) Instalar toolchain necesario (fuera de Python)\n",
    "1. **CUDA Toolkit 12.4** (no solo el driver):\n",
    "   - Durante la instalación, marca **Add to PATH** y **Visual Studio Integration**.\n",
    "   - Tras instalar, verifica que existan rutas como `C:\\\\Program Files\\\\NVIDIA GPU Computing Toolkit\\\\CUDA\\\\v12.4\\\\bin\\\\nvcc.exe`.\n",
    "2. **Microsoft Visual Studio Build Tools 2022**:\n",
    "   - Abre el instalador y elige la carga de trabajo **Desktop development with C++**.\n",
    "   - En **Individual components**, asegúrate de incluir:\n",
    "     - **MSVC v143 - VS 2022 C++ x64/x86 build tools**\n",
    "     - **Windows 11 SDK (10.0.22621 o superior)**\n",
    "     - **C++ CMake tools for Windows**\n",
    "   - Termina la instalación y **reinicia** la PC si lo pide.\n",
    "\n",
    "## 2) Configurar variables de entorno (si no se agregaron solas)\n",
    "- Añade a **PATH** (para tu usuario o sistema):\n",
    "  - `C:\\\\Program Files\\\\NVIDIA GPU Computing Toolkit\\\\CUDA\\\\v12.4\\\\bin`\n",
    "  - `C:\\\\Program Files\\\\NVIDIA GPU Computing Toolkit\\\\CUDA\\\\v12.4\\\\libnvvp`\n",
    "- Define **CUDA_HOME** y **CUDA_PATH** a `C:\\\\Program Files\\\\NVIDIA GPU Computing Toolkit\\\\CUDA\\\\v12.4`.\n",
    "- Asegúrate de abrir **\"x64 Native Tools Command Prompt for VS 2022\"** o **Developer PowerShell for VS** antes de lanzar Jupyter (esto garantiza que `cl.exe` esté en PATH).\n",
    "\n",
    "## 3) Verificación dentro de Python\n",
    "Ejecuta las siguientes celdas. Si `nvcc` y `cl.exe` siguen sin aparecer, abre el Notebook desde el **entorno de VS** mencionado.\n"
   ]
  },
  {
   "cell_type": "code",
   "execution_count": 1,
   "id": "027c8fe6",
   "metadata": {},
   "outputs": [
    {
     "name": "stdout",
     "output_type": "stream",
     "text": [
      "nvcc: C:\\Program Files\\NVIDIA GPU Computing Toolkit\\CUDA\\v12.4\\bin\\nvcc.EXE\n",
      "cl.exe: C:\\Program Files\\Microsoft Visual Studio\\2022\\Community\\VC\\Tools\\MSVC\\14.44.35207\\bin\\HostX64\\x64\\cl.EXE\n",
      "nvcc: NVIDIA (R) Cuda compiler driver\n",
      "Copyright (c) 2005-2024 NVIDIA Corporation\n",
      "Built on Tue_Feb_27_16:28:36_Pacific_Standard_Time_2024\n",
      "Cuda compilation tools, release 12.4, V12.4.99\n",
      "Build cuda_12.4.r12.4/compiler.33961263_0\n",
      "\n"
     ]
    }
   ],
   "source": [
    "import shutil, subprocess\n",
    "print('nvcc:', shutil.which('nvcc'))\n",
    "print('cl.exe:', shutil.which('cl'))\n",
    "try:\n",
    "    out = subprocess.run(['nvcc', '--version'], capture_output=True, text=True)\n",
    "    print(out.stdout or out.stderr)\n",
    "except Exception as e:\n",
    "    print('nvcc no ejecuta:', e)"
   ]
  },
  {
   "cell_type": "markdown",
   "id": "a427dc08",
   "metadata": {},
   "source": [
    "## 4) Preparar `TORCH_CUDA_ARCH_LIST`\n",
    "Se utiliza para compilar kernels solo para arquitecturas necesarias (tu RTX 3060 es **8.6**)."
   ]
  },
  {
   "cell_type": "code",
   "execution_count": null,
   "id": "6b2d0e68",
   "metadata": {},
   "outputs": [],
   "source": [
    "import os, torch\n",
    "arches = {'8.6'}  # RTX 3060\n",
    "# Puedes añadir otras si deseas compatibilidad cruzada\n",
    "os.environ['TORCH_CUDA_ARCH_LIST'] = ';'.join(sorted(arches))\n",
    "print('TORCH_CUDA_ARCH_LIST=', os.environ['TORCH_CUDA_ARCH_LIST'])\n"
   ]
  },
  {
   "cell_type": "markdown",
   "id": "9790c0fa",
   "metadata": {},
   "source": [
    "## 5) Instalar dependencias y compilar **PyTorch3D**\n",
    "Recomendado hacerlo **una sola vez**. Si falla, lee el apartado de **Solución de problemas**."
   ]
  },
  {
   "cell_type": "code",
   "execution_count": null,
   "id": "01e006aa",
   "metadata": {},
   "outputs": [],
   "source": [
    "%pip install -U pip setuptools wheel ninja cmake\n",
    "%pip install -U fvcore iopath\n",
    "%pip install -U open3d trimesh pyrender\n"
   ]
  },
  {
   "cell_type": "code",
   "execution_count": null,
   "id": "1a7a4b34",
   "metadata": {},
   "outputs": [],
   "source": [
    "%pip install \"git+https://github.com/facebookresearch/pytorch3d.git\" --verbose\n"
   ]
  },
  {
   "cell_type": "markdown",
   "id": "772d1be6",
   "metadata": {},
   "source": [
    "## 6) Smoke test rápido\n",
    "Si la instalación terminó bien, este test debería renderizar un icosphere."
   ]
  },
  {
   "cell_type": "code",
   "execution_count": 2,
   "id": "93b96d7f",
   "metadata": {},
   "outputs": [
    {
     "data": {
      "image/png": "[encoded data removed]",
      "text/plain": [
       "<Figure size 640x480 with 1 Axes>"
      ]
     },
     "metadata": {},
     "output_type": "display_data"
    }
   ],
   "source": [
    "import torch\n",
    "from pytorch3d.utils import ico_sphere\n",
    "from pytorch3d.renderer import (\n",
    "    PerspectiveCameras, RasterizationSettings, MeshRenderer, MeshRasterizer,\n",
    "    SoftPhongShader, PointLights, TexturesVertex\n",
    ")\n",
    "from pytorch3d.structures import Meshes\n",
    "import matplotlib.pyplot as plt\n",
    "\n",
    "device = torch.device('cuda' if torch.cuda.is_available() else 'cpu')\n",
    "base = ico_sphere(level=3, device=device)\n",
    "tex = TexturesVertex(verts_features=torch.ones_like(base.verts_packed())[None])\n",
    "mesh = Meshes(verts=[base.verts_packed()], faces=[base.faces_packed()], textures=tex).to(device)\n",
    "cameras = PerspectiveCameras(device=device)\n",
    "raster = RasterizationSettings(image_size=256)\n",
    "lights = PointLights(device=device, location=[[2,2,2]])\n",
    "renderer = MeshRenderer(\n",
    "    rasterizer=MeshRasterizer(cameras=cameras, raster_settings=raster),\n",
    "    shader=SoftPhongShader(device=device, cameras=cameras, lights=lights)\n",
    ")\n",
    "img = renderer(mesh)\n",
    "plt.imshow(img[0, ..., :3].detach().cpu().numpy()); plt.axis('off'); plt.show()\n"
   ]
  },
  {
   "cell_type": "markdown",
   "id": "64ccf485",
   "metadata": {},
   "source": [
    "---\n",
    "## Solución de problemas comunes\n",
    "- **`nvcc: not found`**: no está instalado el Toolkit o no está en PATH. Ver secciones 1 y 2.\n",
    "- **`cl.exe: not found`**: debes abrir el Notebook desde *x64 Native Tools Command Prompt for VS 2022* o añadir las rutas de MSVC a PATH.\n",
    "- **Errores de encabezados CUDA (`cuda_runtime_api.h`)**: suele ser falta de Toolkit o `CUDA_PATH` incorrecto.\n",
    "- **LTO/Link errors**: intenta `pip install --no-build-isolation` o `set CMAKE_GENERATOR=Ninja` antes de instalar; asegúrate de tener `ninja`.\n",
    "- **OOM durante build**: cierra apps pesadas y baja el número de jobs: `set MAX_JOBS=4` en la misma consola antes del `pip install`.\n"
   ]
  }
 ],
 "metadata": {
  "kernelspec": {
   "display_name": "nlp311",
   "language": "python",
   "name": "python3"
  },
  "language_info": {
   "codemirror_mode": {
    "name": "ipython",
    "version": 3
   },
   "file_extension": ".py",
   "mimetype": "text/x-python",
   "name": "python",
   "nbconvert_exporter": "python",
   "pygments_lexer": "ipython3",
   "version": "3.11.11"
  }
 },
 "nbformat": 4,
 "nbformat_minor": 5
}
